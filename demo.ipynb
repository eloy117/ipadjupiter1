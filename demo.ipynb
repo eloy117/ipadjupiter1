python coding in my pad by jupyter lab
